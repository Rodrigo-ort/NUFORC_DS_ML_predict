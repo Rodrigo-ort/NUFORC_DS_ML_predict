{
 "cells": [
  {
   "cell_type": "code",
   "execution_count": 1,
   "id": "b253172a",
   "metadata": {},
   "outputs": [],
   "source": [
    "import pandas as pd\n",
    "from pandas import DataFrame\n",
    "import matplotlib"
   ]
  },
  {
   "cell_type": "code",
   "execution_count": 2,
   "id": "3d8f3412",
   "metadata": {},
   "outputs": [
    {
     "name": "stdout",
     "output_type": "stream",
     "text": [
      "CA    11470\n",
      "FL     5618\n",
      "WA     4925\n",
      "TX     4181\n",
      "Name: State, dtype: int64\n"
     ]
    }
   ],
   "source": [
    "# descobrindo os estados com mais avistamentos\n",
    "df_original = pd.read_csv(\"../Sprint 1/ovnis.csv\")\n",
    "top_states = df_original.State.value_counts().head(4)\n",
    "print(top_states)"
   ]
  },
  {
   "cell_type": "code",
   "execution_count": 3,
   "id": "18d7201e",
   "metadata": {},
   "outputs": [
    {
     "name": "stdout",
     "output_type": "stream",
     "text": [
      "Light       21338\n",
      "Circle      10654\n",
      "Triangle     9321\n",
      "Fireball     8325\n",
      "Name: Shape, dtype: int64\n"
     ]
    }
   ],
   "source": [
    "# descobrindo os formatos mais populares\n",
    "top_shapes = df_original.Shape.value_counts().head(4)\n",
    "print(top_shapes)"
   ]
  },
  {
   "cell_type": "code",
   "execution_count": 4,
   "id": "c6e3d0c6",
   "metadata": {},
   "outputs": [
    {
     "data": {
      "text/html": [
       "<div>\n",
       "<style scoped>\n",
       "    .dataframe tbody tr th:only-of-type {\n",
       "        vertical-align: middle;\n",
       "    }\n",
       "\n",
       "    .dataframe tbody tr th {\n",
       "        vertical-align: top;\n",
       "    }\n",
       "\n",
       "    .dataframe thead th {\n",
       "        text-align: right;\n",
       "    }\n",
       "</style>\n",
       "<table border=\"1\" class=\"dataframe\">\n",
       "  <thead>\n",
       "    <tr style=\"text-align: right;\">\n",
       "      <th></th>\n",
       "      <th>Date / Time</th>\n",
       "      <th>City</th>\n",
       "      <th>State</th>\n",
       "      <th>Country</th>\n",
       "      <th>Shape</th>\n",
       "      <th>Duration</th>\n",
       "      <th>Summary</th>\n",
       "      <th>Posted</th>\n",
       "      <th>Images</th>\n",
       "    </tr>\n",
       "  </thead>\n",
       "  <tbody>\n",
       "    <tr>\n",
       "      <th>2</th>\n",
       "      <td>9/1/97 22:30</td>\n",
       "      <td>Carlsbad</td>\n",
       "      <td>CA</td>\n",
       "      <td>USA</td>\n",
       "      <td>Light</td>\n",
       "      <td>3-5 min</td>\n",
       "      <td>Round orb of light seen in back yard.between a...</td>\n",
       "      <td>12/12/09</td>\n",
       "      <td>NaN</td>\n",
       "    </tr>\n",
       "    <tr>\n",
       "      <th>8</th>\n",
       "      <td>9/6/97 04:47</td>\n",
       "      <td>Covington</td>\n",
       "      <td>WA</td>\n",
       "      <td>USA</td>\n",
       "      <td>Triangle</td>\n",
       "      <td>15 min</td>\n",
       "      <td>Triangle shaped with six lights underneath. On...</td>\n",
       "      <td>1/28/99</td>\n",
       "      <td>NaN</td>\n",
       "    </tr>\n",
       "    <tr>\n",
       "      <th>13</th>\n",
       "      <td>9/10/97 19:00</td>\n",
       "      <td>Alta Loma</td>\n",
       "      <td>CA</td>\n",
       "      <td>USA</td>\n",
       "      <td>Circle</td>\n",
       "      <td>60 minutes +</td>\n",
       "      <td>Very bright circular object about 1500 to 2000...</td>\n",
       "      <td>1/28/99</td>\n",
       "      <td>NaN</td>\n",
       "    </tr>\n",
       "    <tr>\n",
       "      <th>42</th>\n",
       "      <td>9/20/97 22:15</td>\n",
       "      <td>Poway</td>\n",
       "      <td>CA</td>\n",
       "      <td>USA</td>\n",
       "      <td>Triangle</td>\n",
       "      <td>22 min</td>\n",
       "      <td>lights in the shape of a \"V\" were observed by ...</td>\n",
       "      <td>2/16/99</td>\n",
       "      <td>NaN</td>\n",
       "    </tr>\n",
       "    <tr>\n",
       "      <th>58</th>\n",
       "      <td>9/28/97 23:15</td>\n",
       "      <td>San Francisco</td>\n",
       "      <td>CA</td>\n",
       "      <td>USA</td>\n",
       "      <td>Triangle</td>\n",
       "      <td>12-15s</td>\n",
       "      <td>flying-wing shape outlined by 12-14 lights. Ap...</td>\n",
       "      <td>7/5/99</td>\n",
       "      <td>NaN</td>\n",
       "    </tr>\n",
       "  </tbody>\n",
       "</table>\n",
       "</div>"
      ],
      "text/plain": [
       "      Date / Time           City State Country     Shape      Duration  \\\n",
       "2    9/1/97 22:30       Carlsbad    CA     USA     Light       3-5 min   \n",
       "8    9/6/97 04:47      Covington    WA     USA  Triangle        15 min   \n",
       "13  9/10/97 19:00      Alta Loma    CA     USA    Circle  60 minutes +   \n",
       "42  9/20/97 22:15          Poway    CA     USA  Triangle        22 min   \n",
       "58  9/28/97 23:15  San Francisco    CA     USA  Triangle        12-15s   \n",
       "\n",
       "                                              Summary    Posted Images  \n",
       "2   Round orb of light seen in back yard.between a...  12/12/09    NaN  \n",
       "8   Triangle shaped with six lights underneath. On...   1/28/99    NaN  \n",
       "13  Very bright circular object about 1500 to 2000...   1/28/99    NaN  \n",
       "42  lights in the shape of a \"V\" were observed by ...   2/16/99    NaN  \n",
       "58  flying-wing shape outlined by 12-14 lights. Ap...    7/5/99    NaN  "
      ]
     },
     "execution_count": 4,
     "metadata": {},
     "output_type": "execute_result"
    }
   ],
   "source": [
    "# filtrando dataframe apenas com os formatos e estados mais populares\n",
    "df_chart = df_original.loc[df_original.State.isin(list(top_states.index))]\n",
    "df_chart = df_chart.loc[df_chart.Shape.isin(list(top_shapes.index))]\n",
    "df_chart.head()"
   ]
  },
  {
   "cell_type": "code",
   "execution_count": 5,
   "id": "67a6587b",
   "metadata": {},
   "outputs": [
    {
     "data": {
      "text/html": [
       "<div>\n",
       "<style scoped>\n",
       "    .dataframe tbody tr th:only-of-type {\n",
       "        vertical-align: middle;\n",
       "    }\n",
       "\n",
       "    .dataframe tbody tr th {\n",
       "        vertical-align: top;\n",
       "    }\n",
       "\n",
       "    .dataframe thead th {\n",
       "        text-align: right;\n",
       "    }\n",
       "</style>\n",
       "<table border=\"1\" class=\"dataframe\">\n",
       "  <thead>\n",
       "    <tr style=\"text-align: right;\">\n",
       "      <th></th>\n",
       "      <th>State</th>\n",
       "      <th>Shape</th>\n",
       "      <th>Views</th>\n",
       "    </tr>\n",
       "  </thead>\n",
       "  <tbody>\n",
       "    <tr>\n",
       "      <th>0</th>\n",
       "      <td>CA</td>\n",
       "      <td>Circle</td>\n",
       "      <td>1184</td>\n",
       "    </tr>\n",
       "    <tr>\n",
       "      <th>1</th>\n",
       "      <td>CA</td>\n",
       "      <td>Fireball</td>\n",
       "      <td>995</td>\n",
       "    </tr>\n",
       "    <tr>\n",
       "      <th>2</th>\n",
       "      <td>CA</td>\n",
       "      <td>Light</td>\n",
       "      <td>2457</td>\n",
       "    </tr>\n",
       "    <tr>\n",
       "      <th>3</th>\n",
       "      <td>CA</td>\n",
       "      <td>Triangle</td>\n",
       "      <td>983</td>\n",
       "    </tr>\n",
       "    <tr>\n",
       "      <th>4</th>\n",
       "      <td>FL</td>\n",
       "      <td>Circle</td>\n",
       "      <td>650</td>\n",
       "    </tr>\n",
       "    <tr>\n",
       "      <th>5</th>\n",
       "      <td>FL</td>\n",
       "      <td>Fireball</td>\n",
       "      <td>630</td>\n",
       "    </tr>\n",
       "    <tr>\n",
       "      <th>6</th>\n",
       "      <td>FL</td>\n",
       "      <td>Light</td>\n",
       "      <td>1078</td>\n",
       "    </tr>\n",
       "    <tr>\n",
       "      <th>7</th>\n",
       "      <td>FL</td>\n",
       "      <td>Triangle</td>\n",
       "      <td>472</td>\n",
       "    </tr>\n",
       "    <tr>\n",
       "      <th>8</th>\n",
       "      <td>TX</td>\n",
       "      <td>Circle</td>\n",
       "      <td>389</td>\n",
       "    </tr>\n",
       "    <tr>\n",
       "      <th>9</th>\n",
       "      <td>TX</td>\n",
       "      <td>Fireball</td>\n",
       "      <td>262</td>\n",
       "    </tr>\n",
       "    <tr>\n",
       "      <th>10</th>\n",
       "      <td>TX</td>\n",
       "      <td>Light</td>\n",
       "      <td>864</td>\n",
       "    </tr>\n",
       "    <tr>\n",
       "      <th>11</th>\n",
       "      <td>TX</td>\n",
       "      <td>Triangle</td>\n",
       "      <td>431</td>\n",
       "    </tr>\n",
       "    <tr>\n",
       "      <th>12</th>\n",
       "      <td>WA</td>\n",
       "      <td>Circle</td>\n",
       "      <td>468</td>\n",
       "    </tr>\n",
       "    <tr>\n",
       "      <th>13</th>\n",
       "      <td>WA</td>\n",
       "      <td>Fireball</td>\n",
       "      <td>463</td>\n",
       "    </tr>\n",
       "    <tr>\n",
       "      <th>14</th>\n",
       "      <td>WA</td>\n",
       "      <td>Light</td>\n",
       "      <td>1142</td>\n",
       "    </tr>\n",
       "    <tr>\n",
       "      <th>15</th>\n",
       "      <td>WA</td>\n",
       "      <td>Triangle</td>\n",
       "      <td>404</td>\n",
       "    </tr>\n",
       "  </tbody>\n",
       "</table>\n",
       "</div>"
      ],
      "text/plain": [
       "   State     Shape  Views\n",
       "0     CA    Circle   1184\n",
       "1     CA  Fireball    995\n",
       "2     CA     Light   2457\n",
       "3     CA  Triangle    983\n",
       "4     FL    Circle    650\n",
       "5     FL  Fireball    630\n",
       "6     FL     Light   1078\n",
       "7     FL  Triangle    472\n",
       "8     TX    Circle    389\n",
       "9     TX  Fireball    262\n",
       "10    TX     Light    864\n",
       "11    TX  Triangle    431\n",
       "12    WA    Circle    468\n",
       "13    WA  Fireball    463\n",
       "14    WA     Light   1142\n",
       "15    WA  Triangle    404"
      ]
     },
     "execution_count": 5,
     "metadata": {},
     "output_type": "execute_result"
    }
   ],
   "source": [
    "# agrupando pelos valores que interessam para a plotagem do gráfico de barras\n",
    "df_chart = df_chart.groupby(['State','Shape']).size().reset_index(name='Views')\n",
    "df_chart"
   ]
  },
  {
   "cell_type": "code",
   "execution_count": 6,
   "id": "db1a64b6",
   "metadata": {},
   "outputs": [
    {
     "data": {
      "text/plain": [
       "<AxesSubplot:xlabel='State'>"
      ]
     },
     "execution_count": 6,
     "metadata": {},
     "output_type": "execute_result"
    },
    {
     "data": {
      "image/png": "[encoded data removed]",
      "text/plain": [
       "<Figure size 432x288 with 1 Axes>"
      ]
     },
     "metadata": {
      "needs_background": "light"
     },
     "output_type": "display_data"
    }
   ],
   "source": [
    "# gráfico de barras\n",
    "df_chart.pivot('State', 'Shape', 'Views').plot(kind='bar')"
   ]
  },
  {
   "cell_type": "code",
   "execution_count": 7,
   "id": "4663fd77",
   "metadata": {},
   "outputs": [
    {
     "data": {
      "text/plain": [
       "<AxesSubplot:xlabel='State'>"
      ]
     },
     "execution_count": 7,
     "metadata": {},
     "output_type": "execute_result"
    },
    {
     "data": {
      "image/png": "[encoded data removed]",
      "text/plain": [
       "<Figure size 432x288 with 1 Axes>"
      ]
     },
     "metadata": {
      "needs_background": "light"
     },
     "output_type": "display_data"
    }
   ],
   "source": [
    "# gráfico de barras empilhadas\n",
    "df_chart.pivot('State', 'Shape', 'Views').plot(kind='bar', stacked=True)"
   ]
  },
  {
   "cell_type": "code",
   "execution_count": null,
   "id": "2613d5c8",
   "metadata": {},
   "outputs": [],
   "source": []
  }
 ],
 "metadata": {
  "kernelspec": {
   "display_name": "Python 3 (ipykernel)",
   "language": "python",
   "name": "python3"
  },
  "language_info": {
   "codemirror_mode": {
    "name": "ipython",
    "version": 3
   },
   "file_extension": ".py",
   "mimetype": "text/x-python",
   "name": "python",
   "nbconvert_exporter": "python",
   "pygments_lexer": "ipython3",
   "version": "3.8.10"
  }
 },
 "nbformat": 4,
 "nbformat_minor": 5
}
